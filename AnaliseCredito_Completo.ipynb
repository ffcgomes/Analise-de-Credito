{
  "nbformat": 4,
  "nbformat_minor": 0,
  "metadata": {
    "colab": {
      "name": "AnaliseCredito_Completo.ipynb",
      "provenance": []
    },
    "kernelspec": {
      "name": "python2",
      "display_name": "Python 2"
    }
  },
  "cells": [
    {
      "cell_type": "markdown",
      "metadata": {
        "id": "BOCIzeSK12FU"
      },
      "source": [
        "# Fases de um Projeto de Machine Learning\n",
        "- 1 - Definição do Problema\n",
        "- 2 - Preparação dos Dados\n",
        "- 3 - Crie o Modelo\n",
        "- 4 - Deploy - Colocar em Produção\n",
        "\n"
      ]
    },
    {
      "cell_type": "markdown",
      "metadata": {
        "id": "3BkowuTw7e9h"
      },
      "source": [
        "## 1. Definição do Problema\n",
        "Uma empresa que oferece empréstimo a pessoas físicas, necessita saber, com base nos dados de seus clientes, quais novos clientes poderão ou não ter acesso ao crédito solicitado."
      ]
    },
    {
      "cell_type": "markdown",
      "metadata": {
        "id": "W3IGHtQz2G6L"
      },
      "source": [
        "## 2. Preparação dos Dados"
      ]
    },
    {
      "cell_type": "code",
      "metadata": {
        "id": "wFiEg7SWwRMI"
      },
      "source": [
        "# Importando as Bibliotecas\n",
        "import os\n",
        "import re\n",
        "import numpy as np\n",
        "import pandas as pd\n",
        "import warnings\n",
        "warnings.filterwarnings(\"ignore\")"
      ],
      "execution_count": null,
      "outputs": []
    },
    {
      "cell_type": "markdown",
      "metadata": {
        "id": "70IgXqgQm1_f"
      },
      "source": [
        "### Carregando a Fonte de Dados (Análise de Crédito)"
      ]
    },
    {
      "cell_type": "code",
      "metadata": {
        "id": "eA-rgkAuwRMM"
      },
      "source": [
        "# Importando arquivo .csv\n",
        "data = pd.read_csv('loan.csv')"
      ],
      "execution_count": null,
      "outputs": []
    },
    {
      "cell_type": "code",
      "metadata": {
        "id": "23qNQ2wIwRMP",
        "colab": {
          "base_uri": "https://localhost:8080/",
          "height": 241
        },
        "outputId": "1efe9985-5216-47f7-b24a-4adc728a0f0a"
      },
      "source": [
        "# Verifica as primeiras 5 linhas\n",
        "data.head()"
      ],
      "execution_count": null,
      "outputs": [
        {
          "output_type": "execute_result",
          "data": {
            "text/html": [
              "<div>\n",
              "<style scoped>\n",
              "    .dataframe tbody tr th:only-of-type {\n",
              "        vertical-align: middle;\n",
              "    }\n",
              "\n",
              "    .dataframe tbody tr th {\n",
              "        vertical-align: top;\n",
              "    }\n",
              "\n",
              "    .dataframe thead th {\n",
              "        text-align: right;\n",
              "    }\n",
              "</style>\n",
              "<table border=\"1\" class=\"dataframe\">\n",
              "  <thead>\n",
              "    <tr style=\"text-align: right;\">\n",
              "      <th></th>\n",
              "      <th>Loan_ID</th>\n",
              "      <th>Gender</th>\n",
              "      <th>Married</th>\n",
              "      <th>Dependents</th>\n",
              "      <th>Education</th>\n",
              "      <th>Self_Employed</th>\n",
              "      <th>ApplicantIncome</th>\n",
              "      <th>CoapplicantIncome</th>\n",
              "      <th>LoanAmount</th>\n",
              "      <th>Loan_Amount_Term</th>\n",
              "      <th>Credit_History</th>\n",
              "      <th>Property_Area</th>\n",
              "      <th>Loan_Status</th>\n",
              "    </tr>\n",
              "  </thead>\n",
              "  <tbody>\n",
              "    <tr>\n",
              "      <th>0</th>\n",
              "      <td>LP001002</td>\n",
              "      <td>Male</td>\n",
              "      <td>No</td>\n",
              "      <td>0</td>\n",
              "      <td>Graduate</td>\n",
              "      <td>No</td>\n",
              "      <td>5849</td>\n",
              "      <td>0.0</td>\n",
              "      <td>NaN</td>\n",
              "      <td>360.0</td>\n",
              "      <td>1.0</td>\n",
              "      <td>Urban</td>\n",
              "      <td>Y</td>\n",
              "    </tr>\n",
              "    <tr>\n",
              "      <th>1</th>\n",
              "      <td>LP001003</td>\n",
              "      <td>Male</td>\n",
              "      <td>Yes</td>\n",
              "      <td>1</td>\n",
              "      <td>Graduate</td>\n",
              "      <td>No</td>\n",
              "      <td>4583</td>\n",
              "      <td>1508.0</td>\n",
              "      <td>128.0</td>\n",
              "      <td>360.0</td>\n",
              "      <td>1.0</td>\n",
              "      <td>Rural</td>\n",
              "      <td>N</td>\n",
              "    </tr>\n",
              "    <tr>\n",
              "      <th>2</th>\n",
              "      <td>LP001005</td>\n",
              "      <td>Male</td>\n",
              "      <td>Yes</td>\n",
              "      <td>0</td>\n",
              "      <td>Graduate</td>\n",
              "      <td>Yes</td>\n",
              "      <td>3000</td>\n",
              "      <td>0.0</td>\n",
              "      <td>66.0</td>\n",
              "      <td>360.0</td>\n",
              "      <td>1.0</td>\n",
              "      <td>Urban</td>\n",
              "      <td>Y</td>\n",
              "    </tr>\n",
              "    <tr>\n",
              "      <th>3</th>\n",
              "      <td>LP001006</td>\n",
              "      <td>Male</td>\n",
              "      <td>Yes</td>\n",
              "      <td>0</td>\n",
              "      <td>Not Graduate</td>\n",
              "      <td>No</td>\n",
              "      <td>2583</td>\n",
              "      <td>2358.0</td>\n",
              "      <td>120.0</td>\n",
              "      <td>360.0</td>\n",
              "      <td>1.0</td>\n",
              "      <td>Urban</td>\n",
              "      <td>Y</td>\n",
              "    </tr>\n",
              "    <tr>\n",
              "      <th>4</th>\n",
              "      <td>LP001008</td>\n",
              "      <td>Male</td>\n",
              "      <td>No</td>\n",
              "      <td>0</td>\n",
              "      <td>Graduate</td>\n",
              "      <td>No</td>\n",
              "      <td>6000</td>\n",
              "      <td>0.0</td>\n",
              "      <td>141.0</td>\n",
              "      <td>360.0</td>\n",
              "      <td>1.0</td>\n",
              "      <td>Urban</td>\n",
              "      <td>Y</td>\n",
              "    </tr>\n",
              "  </tbody>\n",
              "</table>\n",
              "</div>"
            ],
            "text/plain": [
              "    Loan_ID Gender Married  ... Credit_History Property_Area Loan_Status\n",
              "0  LP001002   Male      No  ...            1.0         Urban           Y\n",
              "1  LP001003   Male     Yes  ...            1.0         Rural           N\n",
              "2  LP001005   Male     Yes  ...            1.0         Urban           Y\n",
              "3  LP001006   Male     Yes  ...            1.0         Urban           Y\n",
              "4  LP001008   Male      No  ...            1.0         Urban           Y\n",
              "\n",
              "[5 rows x 13 columns]"
            ]
          },
          "metadata": {
            "tags": []
          },
          "execution_count": 4
        }
      ]
    },
    {
      "cell_type": "code",
      "metadata": {
        "id": "MaCgAt6AwRMU",
        "colab": {
          "base_uri": "https://localhost:8080/",
          "height": 323
        },
        "outputId": "b10f47b9-11da-429d-d3f9-7b93292d3609"
      },
      "source": [
        "# Informações sobre colunas\n",
        "data.info()"
      ],
      "execution_count": null,
      "outputs": [
        {
          "output_type": "stream",
          "text": [
            "<class 'pandas.core.frame.DataFrame'>\n",
            "RangeIndex: 614 entries, 0 to 613\n",
            "Data columns (total 13 columns):\n",
            "Loan_ID              614 non-null object\n",
            "Gender               601 non-null object\n",
            "Married              611 non-null object\n",
            "Dependents           599 non-null object\n",
            "Education            614 non-null object\n",
            "Self_Employed        582 non-null object\n",
            "ApplicantIncome      614 non-null int64\n",
            "CoapplicantIncome    614 non-null float64\n",
            "LoanAmount           592 non-null float64\n",
            "Loan_Amount_Term     600 non-null float64\n",
            "Credit_History       564 non-null float64\n",
            "Property_Area        614 non-null object\n",
            "Loan_Status          614 non-null object\n",
            "dtypes: float64(4), int64(1), object(8)\n",
            "memory usage: 62.4+ KB\n"
          ],
          "name": "stdout"
        }
      ]
    },
    {
      "cell_type": "code",
      "metadata": {
        "id": "BxNeYXfUm1_9",
        "colab": {
          "base_uri": "https://localhost:8080/",
          "height": 68
        },
        "outputId": "d633b04f-cf51-4d2f-ad9e-8fc6bf4bdb86"
      },
      "source": [
        "# Verificando o balanceamento dos Labels (Y - Aprovado, N - Negado)\n",
        "data.Loan_Status.value_counts()"
      ],
      "execution_count": null,
      "outputs": [
        {
          "output_type": "execute_result",
          "data": {
            "text/plain": [
              "Y    422\n",
              "N    192\n",
              "Name: Loan_Status, dtype: int64"
            ]
          },
          "metadata": {
            "tags": []
          },
          "execution_count": 6
        }
      ]
    },
    {
      "cell_type": "code",
      "metadata": {
        "id": "35zevsGqm2AC"
      },
      "source": [
        "# Reduzindo o valor de Aprovados para ficar equilibrado\n",
        "data2 = data[data.Loan_Status=='Y'].sample(200)"
      ],
      "execution_count": null,
      "outputs": []
    },
    {
      "cell_type": "code",
      "metadata": {
        "id": "Tp8xoLP6m2AI"
      },
      "source": [
        "data = data2.append(data[data.Loan_Status=='N'].sample(192))"
      ],
      "execution_count": null,
      "outputs": []
    },
    {
      "cell_type": "code",
      "metadata": {
        "id": "uqizu-oom2AN",
        "colab": {
          "base_uri": "https://localhost:8080/",
          "height": 68
        },
        "outputId": "5ecb2ac6-b7ab-4eaa-dfe5-d5be1bab3d5a"
      },
      "source": [
        "# Verificando novamente (agora tá mais equilibrado)\n",
        "data.Loan_Status.value_counts()"
      ],
      "execution_count": null,
      "outputs": [
        {
          "output_type": "execute_result",
          "data": {
            "text/plain": [
              "Y    200\n",
              "N    192\n",
              "Name: Loan_Status, dtype: int64"
            ]
          },
          "metadata": {
            "tags": []
          },
          "execution_count": 9
        }
      ]
    },
    {
      "cell_type": "markdown",
      "metadata": {
        "id": "1IfW01DLm2AY"
      },
      "source": [
        "### Checando Missing Values (Valores nulos)"
      ]
    },
    {
      "cell_type": "code",
      "metadata": {
        "id": "69SpyfpVwRMa",
        "scrolled": true,
        "colab": {
          "base_uri": "https://localhost:8080/",
          "height": 255
        },
        "outputId": "63ca62d6-90cf-4f31-fed4-9bd4e45841b9"
      },
      "source": [
        "data2.isnull().sum()"
      ],
      "execution_count": null,
      "outputs": [
        {
          "output_type": "execute_result",
          "data": {
            "text/plain": [
              "Loan_ID               0\n",
              "Gender                3\n",
              "Married               2\n",
              "Dependents            6\n",
              "Education             0\n",
              "Self_Employed        10\n",
              "ApplicantIncome       0\n",
              "CoapplicantIncome     0\n",
              "LoanAmount            7\n",
              "Loan_Amount_Term      3\n",
              "Credit_History       18\n",
              "Property_Area         0\n",
              "Loan_Status           0\n",
              "dtype: int64"
            ]
          },
          "metadata": {
            "tags": []
          },
          "execution_count": 10
        }
      ]
    },
    {
      "cell_type": "markdown",
      "metadata": {
        "id": "MvkdRAniwRMg"
      },
      "source": [
        "Preechendo Missing Values:\n",
        "\n",
        "- `Dependents`: Assumindo o valor majoritário da coluna.\n",
        "- `Self_Employed`: Assumindo o valor majoritário da coluna.\n",
        "- `Loan_Amount_Term`: Preenchendo com o valor médio da coluna.\n",
        "- `Credit_History`: Assumindo o valor majoritário da coluna.\n",
        "- `Married`: Assumindo o valor majoritário da coluna.\n",
        "- `Gender`: Assumindo o valor majoritário da coluna."
      ]
    },
    {
      "cell_type": "code",
      "metadata": {
        "id": "TY7n676swRMh"
      },
      "source": [
        "data['Gender'] = data['Gender'].fillna('Male')"
      ],
      "execution_count": null,
      "outputs": []
    },
    {
      "cell_type": "code",
      "metadata": {
        "id": "pzm9TlNIwRMk"
      },
      "source": [
        "data['Married'] = data['Married'].fillna('No')"
      ],
      "execution_count": null,
      "outputs": []
    },
    {
      "cell_type": "code",
      "metadata": {
        "id": "IDKJ8y30wRMm"
      },
      "source": [
        "data['Dependents'] = data['Dependents'].fillna('0')"
      ],
      "execution_count": null,
      "outputs": []
    },
    {
      "cell_type": "code",
      "metadata": {
        "id": "RuKJ_qrCwRMs"
      },
      "source": [
        "data['Self_Employed'] = data['Self_Employed'].fillna('No')"
      ],
      "execution_count": null,
      "outputs": []
    },
    {
      "cell_type": "code",
      "metadata": {
        "id": "mGk51NZMm2A5"
      },
      "source": [
        "data['LoanAmount'] = data['LoanAmount'].fillna(data['LoanAmount'].mean())"
      ],
      "execution_count": null,
      "outputs": []
    },
    {
      "cell_type": "code",
      "metadata": {
        "id": "ZiWpQ14FwRMv"
      },
      "source": [
        "data['Credit_History'] = data['Credit_History'].fillna(1.0)"
      ],
      "execution_count": null,
      "outputs": []
    },
    {
      "cell_type": "code",
      "metadata": {
        "id": "qBdVp_d1m2BB"
      },
      "source": [
        "data['Loan_Amount_Term'] = data['Loan_Amount_Term'].fillna(data['Loan_Amount_Term'].mean())"
      ],
      "execution_count": null,
      "outputs": []
    },
    {
      "cell_type": "markdown",
      "metadata": {
        "id": "q388VLysm2BK"
      },
      "source": [
        "#### Checando novamente Missing Values"
      ]
    },
    {
      "cell_type": "code",
      "metadata": {
        "id": "EiU2WqeSm2BN",
        "colab": {
          "base_uri": "https://localhost:8080/",
          "height": 255
        },
        "outputId": "59aba39a-5725-45bf-c944-8dd4856cd59e"
      },
      "source": [
        "data.isnull().sum()"
      ],
      "execution_count": null,
      "outputs": [
        {
          "output_type": "execute_result",
          "data": {
            "text/plain": [
              "Loan_ID              0\n",
              "Gender               0\n",
              "Married              0\n",
              "Dependents           0\n",
              "Education            0\n",
              "Self_Employed        0\n",
              "ApplicantIncome      0\n",
              "CoapplicantIncome    0\n",
              "LoanAmount           0\n",
              "Loan_Amount_Term     0\n",
              "Credit_History       0\n",
              "Property_Area        0\n",
              "Loan_Status          0\n",
              "dtype: int64"
            ]
          },
          "metadata": {
            "tags": []
          },
          "execution_count": 19
        }
      ]
    },
    {
      "cell_type": "markdown",
      "metadata": {
        "id": "TIa3cDc5m2BR"
      },
      "source": [
        "**Transformando dados categóricos**"
      ]
    },
    {
      "cell_type": "markdown",
      "metadata": {
        "id": "FNWlEY9HwRMz"
      },
      "source": [
        "Várias colunas do dataframe são categóricas, precisamos transforma-las, são elas: `Gender`, `Married`, `Education`, `Self_Employed`, `Dependents` e `Loan_Status` columns."
      ]
    },
    {
      "cell_type": "code",
      "metadata": {
        "id": "s6g3BzW_m2BU"
      },
      "source": [
        "from sklearn.preprocessing import LabelEncoder"
      ],
      "execution_count": null,
      "outputs": []
    },
    {
      "cell_type": "code",
      "metadata": {
        "id": "9lbliQ5Wm2CW"
      },
      "source": [
        "gender_values = {'Female' : 0, 'Male' : 1} \n",
        "married_values = {'No' : 0, 'Yes' : 1}\n",
        "education_values = {'Graduate' : 0, 'Not Graduate' : 1}\n",
        "employed_values = {'No' : 0, 'Yes' : 1}\n",
        "dependent_values = {'3+': 3, '0': 0, '2': 2, '1': 1}\n",
        "loan_values = {'Y':1,'N':0}\n",
        "data.replace({'Gender': gender_values,\n",
        "                 'Married': married_values, \n",
        "                 'Education': education_values,\n",
        "                 'Self_Employed': employed_values, \n",
        "                 'Dependents': dependent_values,\n",
        "                 'Loan_Status': loan_values\n",
        "                }, inplace=True)"
      ],
      "execution_count": null,
      "outputs": []
    },
    {
      "cell_type": "code",
      "metadata": {
        "id": "4Suh-QS_m2Ca"
      },
      "source": [
        "# Apagando colunas que não agrega valor ao modelo\n",
        "data.drop(['Loan_ID','CoapplicantIncome','Loan_Amount_Term','Credit_History','Property_Area'],axis=1,inplace=True)"
      ],
      "execution_count": null,
      "outputs": []
    },
    {
      "cell_type": "code",
      "metadata": {
        "id": "DMEBslyiwRM7",
        "colab": {
          "base_uri": "https://localhost:8080/",
          "height": 204
        },
        "outputId": "1162b15c-0a3c-476a-ee76-8ca8c4f7d88c"
      },
      "source": [
        "# Verificando\n",
        "data.head()"
      ],
      "execution_count": null,
      "outputs": [
        {
          "output_type": "execute_result",
          "data": {
            "text/html": [
              "<div>\n",
              "<style scoped>\n",
              "    .dataframe tbody tr th:only-of-type {\n",
              "        vertical-align: middle;\n",
              "    }\n",
              "\n",
              "    .dataframe tbody tr th {\n",
              "        vertical-align: top;\n",
              "    }\n",
              "\n",
              "    .dataframe thead th {\n",
              "        text-align: right;\n",
              "    }\n",
              "</style>\n",
              "<table border=\"1\" class=\"dataframe\">\n",
              "  <thead>\n",
              "    <tr style=\"text-align: right;\">\n",
              "      <th></th>\n",
              "      <th>Gender</th>\n",
              "      <th>Married</th>\n",
              "      <th>Dependents</th>\n",
              "      <th>Education</th>\n",
              "      <th>Self_Employed</th>\n",
              "      <th>ApplicantIncome</th>\n",
              "      <th>LoanAmount</th>\n",
              "      <th>Loan_Status</th>\n",
              "    </tr>\n",
              "  </thead>\n",
              "  <tbody>\n",
              "    <tr>\n",
              "      <th>316</th>\n",
              "      <td>1</td>\n",
              "      <td>1</td>\n",
              "      <td>2</td>\n",
              "      <td>0</td>\n",
              "      <td>0</td>\n",
              "      <td>3717</td>\n",
              "      <td>120.000000</td>\n",
              "      <td>1</td>\n",
              "    </tr>\n",
              "    <tr>\n",
              "      <th>207</th>\n",
              "      <td>1</td>\n",
              "      <td>0</td>\n",
              "      <td>0</td>\n",
              "      <td>1</td>\n",
              "      <td>0</td>\n",
              "      <td>3975</td>\n",
              "      <td>55.000000</td>\n",
              "      <td>1</td>\n",
              "    </tr>\n",
              "    <tr>\n",
              "      <th>103</th>\n",
              "      <td>1</td>\n",
              "      <td>1</td>\n",
              "      <td>0</td>\n",
              "      <td>0</td>\n",
              "      <td>0</td>\n",
              "      <td>4652</td>\n",
              "      <td>147.125668</td>\n",
              "      <td>1</td>\n",
              "    </tr>\n",
              "    <tr>\n",
              "      <th>79</th>\n",
              "      <td>1</td>\n",
              "      <td>1</td>\n",
              "      <td>3</td>\n",
              "      <td>1</td>\n",
              "      <td>1</td>\n",
              "      <td>3333</td>\n",
              "      <td>130.000000</td>\n",
              "      <td>1</td>\n",
              "    </tr>\n",
              "    <tr>\n",
              "      <th>491</th>\n",
              "      <td>1</td>\n",
              "      <td>1</td>\n",
              "      <td>1</td>\n",
              "      <td>1</td>\n",
              "      <td>0</td>\n",
              "      <td>5333</td>\n",
              "      <td>186.000000</td>\n",
              "      <td>1</td>\n",
              "    </tr>\n",
              "  </tbody>\n",
              "</table>\n",
              "</div>"
            ],
            "text/plain": [
              "     Gender  Married  Dependents  ...  ApplicantIncome  LoanAmount  Loan_Status\n",
              "316       1        1           2  ...             3717  120.000000            1\n",
              "207       1        0           0  ...             3975   55.000000            1\n",
              "103       1        1           0  ...             4652  147.125668            1\n",
              "79        1        1           3  ...             3333  130.000000            1\n",
              "491       1        1           1  ...             5333  186.000000            1\n",
              "\n",
              "[5 rows x 8 columns]"
            ]
          },
          "metadata": {
            "tags": []
          },
          "execution_count": 23
        }
      ]
    },
    {
      "cell_type": "markdown",
      "metadata": {
        "id": "fy8iNmVVwRND"
      },
      "source": [
        "## 3. Crie o Modelo"
      ]
    },
    {
      "cell_type": "code",
      "metadata": {
        "id": "n8DJhBmQwRNE"
      },
      "source": [
        "# O classificador escolhido para o estudo foi o Random Forest\n",
        "# - O foco não foi os melhores resultados, e sim mostrar o fluxo completo\n",
        "from sklearn.ensemble import RandomForestClassifier\n",
        "from sklearn.model_selection import train_test_split"
      ],
      "execution_count": null,
      "outputs": []
    },
    {
      "cell_type": "code",
      "metadata": {
        "id": "IrTE86Jvp_JO"
      },
      "source": [
        "# Instanciando o Classificador\n",
        "clf_rf = RandomForestClassifier(n_estimators=100,min_samples_split=2)"
      ],
      "execution_count": null,
      "outputs": []
    },
    {
      "cell_type": "code",
      "metadata": {
        "id": "iDYyTtlVqLHr"
      },
      "source": [
        "# Dividindo o conjunto de dados (Valores e Rótulos)\n",
        "X_train = data.drop('Loan_Status',axis=1)\n",
        "y = data['Loan_Status']"
      ],
      "execution_count": null,
      "outputs": []
    },
    {
      "cell_type": "code",
      "metadata": {
        "id": "__2jq2CBqgaX"
      },
      "source": [
        "# Divindo o conjunto em Treinamento e Teste (tamanho do teste: 20% do conjunto)\n",
        "X_treino, X_teste, y_treino, y_teste = train_test_split(X_train, y,test_size=0.20,random_state=42)"
      ],
      "execution_count": null,
      "outputs": []
    },
    {
      "cell_type": "code",
      "metadata": {
        "id": "Op_3kWnVqPFM",
        "colab": {
          "base_uri": "https://localhost:8080/",
          "height": 136
        },
        "outputId": "28727e8d-63e1-4fb8-96cb-39c7c9186f6d"
      },
      "source": [
        "# Treinando o modelo\n",
        "clf_rf.fit(X_treino,y_treino)"
      ],
      "execution_count": null,
      "outputs": [
        {
          "output_type": "execute_result",
          "data": {
            "text/plain": [
              "RandomForestClassifier(bootstrap=True, class_weight=None, criterion='gini',\n",
              "            max_depth=None, max_features='auto', max_leaf_nodes=None,\n",
              "            min_impurity_decrease=0.0, min_impurity_split=None,\n",
              "            min_samples_leaf=1, min_samples_split=2,\n",
              "            min_weight_fraction_leaf=0.0, n_estimators=100, n_jobs=None,\n",
              "            oob_score=False, random_state=None, verbose=0,\n",
              "            warm_start=False)"
            ]
          },
          "metadata": {
            "tags": []
          },
          "execution_count": 28
        }
      ]
    },
    {
      "cell_type": "markdown",
      "metadata": {
        "id": "MVzvNYelm2Dh"
      },
      "source": [
        "### Métricas de Validação ###"
      ]
    },
    {
      "cell_type": "code",
      "metadata": {
        "id": "4ItJdvlnm2Dj"
      },
      "source": [
        "# Importando bibliotecas de métricas\n",
        "from sklearn import metrics\n",
        "from sklearn.model_selection import train_test_split"
      ],
      "execution_count": null,
      "outputs": []
    },
    {
      "cell_type": "code",
      "metadata": {
        "id": "eSgoc3O4m2Dn",
        "colab": {
          "base_uri": "https://localhost:8080/",
          "height": 102
        },
        "outputId": "c17fe0c7-80a7-422c-ce23-8989711a162e"
      },
      "source": [
        "# Usando crosstab para visualizar as classificações\n",
        "# - O foco do estudo, não foi os melhores resultados, e sim mostrar o fluxo completo\n",
        "print (pd.crosstab(y_teste, clf_rf.predict(X_teste), rownames=['Real'], colnames=['Predito'], margins=True), '')"
      ],
      "execution_count": null,
      "outputs": [
        {
          "output_type": "stream",
          "text": [
            "(Predito   0   1  All\n",
            "Real                \n",
            "0        17  11   28\n",
            "1        25  26   51\n",
            "All      42  37   79, '')\n"
          ],
          "name": "stdout"
        }
      ]
    },
    {
      "cell_type": "code",
      "metadata": {
        "id": "SPD41TXMm2Dp",
        "colab": {
          "base_uri": "https://localhost:8080/",
          "height": 170
        },
        "outputId": "4ef6e65e-81d8-4677-9255-75096ddea017"
      },
      "source": [
        "# Relatório de Classificação\n",
        "# - O foco do estudo, não foi os melhores resultados, e sim mostrar o fluxo completo\n",
        "# -- esses números podem melhorar\n",
        "print (metrics.classification_report(y_teste,clf_rf.predict(X_teste)))"
      ],
      "execution_count": null,
      "outputs": [
        {
          "output_type": "stream",
          "text": [
            "              precision    recall  f1-score   support\n",
            "\n",
            "           0       0.40      0.61      0.49        28\n",
            "           1       0.70      0.51      0.59        51\n",
            "\n",
            "   micro avg       0.54      0.54      0.54        79\n",
            "   macro avg       0.55      0.56      0.54        79\n",
            "weighted avg       0.60      0.54      0.55        79\n",
            "\n"
          ],
          "name": "stdout"
        }
      ]
    },
    {
      "cell_type": "markdown",
      "metadata": {
        "id": "L9aXaIBQ8PhI"
      },
      "source": [
        "## 4. Coloque em Produção"
      ]
    },
    {
      "cell_type": "markdown",
      "metadata": {
        "id": "shCJkslrm2Dr"
      },
      "source": [
        "### Persistindo o modelo de Machine Learning para o disco. ###"
      ]
    },
    {
      "cell_type": "code",
      "metadata": {
        "id": "t8qYDQuGm2Ds"
      },
      "source": [
        "# Usando o joblib\n",
        "from sklearn.externals import joblib"
      ],
      "execution_count": null,
      "outputs": []
    },
    {
      "cell_type": "markdown",
      "metadata": {
        "id": "Dqj0JlJfm2Du"
      },
      "source": [
        "#### Persistindo o melhor modelo em disco."
      ]
    },
    {
      "cell_type": "code",
      "metadata": {
        "id": "vOKnfexDwRNt",
        "scrolled": false,
        "colab": {
          "base_uri": "https://localhost:8080/",
          "height": 54
        },
        "outputId": "d808ecfb-6589-406e-b9f5-d1ec3bc634a9"
      },
      "source": [
        "joblib.dump(clf_rf, 'model/model.pkl')"
      ],
      "execution_count": null,
      "outputs": [
        {
          "output_type": "execute_result",
          "data": {
            "text/plain": [
              "['/content/drive/My Drive/0. Business/2. Consultoria em Dados/2. IA, ML/0. Scripts, Exemplos, Cursos/Scripts exemplos/Deploy em Produc\\xcc\\xa7a\\xcc\\x83o/model.pkl']"
            ]
          },
          "metadata": {
            "tags": []
          },
          "execution_count": 33
        }
      ]
    },
    {
      "cell_type": "markdown",
      "metadata": {
        "id": "uRSL1NxPm2Dz"
      },
      "source": [
        "#### Carregando o modelo a partir do disco para a memória."
      ]
    },
    {
      "cell_type": "code",
      "metadata": {
        "id": "0xrJO3M5wRNv"
      },
      "source": [
        "# Carregando do Disco para a Memória\n",
        "model = joblib.load('model.pkl')"
      ],
      "execution_count": null,
      "outputs": []
    },
    {
      "cell_type": "markdown",
      "metadata": {
        "id": "llWpKQ0F83ct"
      },
      "source": [
        "#### Verificando os atributos do modelo."
      ]
    },
    {
      "cell_type": "code",
      "metadata": {
        "id": "laqYbPPmm2D1",
        "colab": {
          "base_uri": "https://localhost:8080/",
          "height": 221
        },
        "outputId": "a630a8a0-4c12-4221-be72-57568d0914bb"
      },
      "source": [
        "print(\"Atributos do Modelo:\\n\\nClasses:{}\\n\\nEstimators:{}\\n\\nParametros:{}\".format(model.classes_,model.n_estimators,model.base_estimator))"
      ],
      "execution_count": null,
      "outputs": [
        {
          "output_type": "stream",
          "text": [
            "Atributos do Modelo:\n",
            "\n",
            "Classes:[0 1]\n",
            "\n",
            "Estimators:100\n",
            "\n",
            "Parametros:DecisionTreeClassifier(ccp_alpha=0.0, class_weight=None, criterion='gini',\n",
            "                       max_depth=None, max_features=None, max_leaf_nodes=None,\n",
            "                       min_impurity_decrease=0.0, min_impurity_split=None,\n",
            "                       min_samples_leaf=1, min_samples_split=2,\n",
            "                       min_weight_fraction_leaf=0.0, presort='deprecated',\n",
            "                       random_state=None, splitter='best')\n"
          ],
          "name": "stdout"
        }
      ]
    },
    {
      "cell_type": "markdown",
      "metadata": {
        "id": "ZS_2e3Jum2D3"
      },
      "source": [
        "**Verificando o Dataset final gerado.**"
      ]
    },
    {
      "cell_type": "code",
      "metadata": {
        "scrolled": false,
        "id": "-w_Wd4JHm2D3",
        "colab": {
          "base_uri": "https://localhost:8080/",
          "height": 204
        },
        "outputId": "a2e58e67-5513-489c-d71c-3228c2fc70d3"
      },
      "source": [
        "X_train.head()"
      ],
      "execution_count": null,
      "outputs": [
        {
          "output_type": "execute_result",
          "data": {
            "text/html": [
              "<div>\n",
              "<style scoped>\n",
              "    .dataframe tbody tr th:only-of-type {\n",
              "        vertical-align: middle;\n",
              "    }\n",
              "\n",
              "    .dataframe tbody tr th {\n",
              "        vertical-align: top;\n",
              "    }\n",
              "\n",
              "    .dataframe thead th {\n",
              "        text-align: right;\n",
              "    }\n",
              "</style>\n",
              "<table border=\"1\" class=\"dataframe\">\n",
              "  <thead>\n",
              "    <tr style=\"text-align: right;\">\n",
              "      <th></th>\n",
              "      <th>Gender</th>\n",
              "      <th>Married</th>\n",
              "      <th>Dependents</th>\n",
              "      <th>Education</th>\n",
              "      <th>Self_Employed</th>\n",
              "      <th>ApplicantIncome</th>\n",
              "      <th>LoanAmount</th>\n",
              "    </tr>\n",
              "  </thead>\n",
              "  <tbody>\n",
              "    <tr>\n",
              "      <th>264</th>\n",
              "      <td>1</td>\n",
              "      <td>0</td>\n",
              "      <td>0</td>\n",
              "      <td>0</td>\n",
              "      <td>1</td>\n",
              "      <td>5166</td>\n",
              "      <td>128.0</td>\n",
              "    </tr>\n",
              "    <tr>\n",
              "      <th>566</th>\n",
              "      <td>1</td>\n",
              "      <td>0</td>\n",
              "      <td>0</td>\n",
              "      <td>0</td>\n",
              "      <td>0</td>\n",
              "      <td>3333</td>\n",
              "      <td>70.0</td>\n",
              "    </tr>\n",
              "    <tr>\n",
              "      <th>419</th>\n",
              "      <td>1</td>\n",
              "      <td>1</td>\n",
              "      <td>0</td>\n",
              "      <td>0</td>\n",
              "      <td>0</td>\n",
              "      <td>3246</td>\n",
              "      <td>138.0</td>\n",
              "    </tr>\n",
              "    <tr>\n",
              "      <th>512</th>\n",
              "      <td>1</td>\n",
              "      <td>1</td>\n",
              "      <td>2</td>\n",
              "      <td>0</td>\n",
              "      <td>0</td>\n",
              "      <td>3283</td>\n",
              "      <td>148.0</td>\n",
              "    </tr>\n",
              "    <tr>\n",
              "      <th>442</th>\n",
              "      <td>1</td>\n",
              "      <td>0</td>\n",
              "      <td>3</td>\n",
              "      <td>1</td>\n",
              "      <td>0</td>\n",
              "      <td>4707</td>\n",
              "      <td>148.0</td>\n",
              "    </tr>\n",
              "  </tbody>\n",
              "</table>\n",
              "</div>"
            ],
            "text/plain": [
              "     Gender  Married  Dependents  ...  Self_Employed  ApplicantIncome  LoanAmount\n",
              "264       1        0           0  ...              1             5166       128.0\n",
              "566       1        0           0  ...              0             3333        70.0\n",
              "419       1        1           0  ...              0             3246       138.0\n",
              "512       1        1           2  ...              0             3283       148.0\n",
              "442       1        0           3  ...              0             4707       148.0\n",
              "\n",
              "[5 rows x 7 columns]"
            ]
          },
          "metadata": {
            "tags": []
          },
          "execution_count": 47
        }
      ]
    },
    {
      "cell_type": "markdown",
      "metadata": {
        "id": "wW4OQAVYm2D5"
      },
      "source": [
        "**Teste de Classificação.**"
      ]
    },
    {
      "cell_type": "code",
      "metadata": {
        "id": "OCcnVNTiwRNx"
      },
      "source": [
        "teste = np.array([[1,1,3,0,0,9504,275.0]])"
      ],
      "execution_count": null,
      "outputs": []
    },
    {
      "cell_type": "code",
      "metadata": {
        "id": "gqSqR2howRN0",
        "colab": {
          "base_uri": "https://localhost:8080/",
          "height": 34
        },
        "outputId": "8ee26a3f-ecd9-4128-aeff-18573a6d148d"
      },
      "source": [
        "model.predict(teste)"
      ],
      "execution_count": null,
      "outputs": [
        {
          "output_type": "execute_result",
          "data": {
            "text/plain": [
              "array([0])"
            ]
          },
          "metadata": {
            "tags": []
          },
          "execution_count": 49
        }
      ]
    },
    {
      "cell_type": "markdown",
      "metadata": {
        "id": "GhbI3Gf4m2D7"
      },
      "source": [
        "**Probabilidades de Classes.**"
      ]
    },
    {
      "cell_type": "code",
      "metadata": {
        "id": "8r65nEWYm2D8",
        "colab": {
          "base_uri": "https://localhost:8080/",
          "height": 34
        },
        "outputId": "2574cdae-bb34-47fe-9cd0-67ede15b3e3d"
      },
      "source": [
        "model.predict_proba(teste)"
      ],
      "execution_count": null,
      "outputs": [
        {
          "output_type": "execute_result",
          "data": {
            "text/plain": [
              "array([[0.56, 0.44]])"
            ]
          },
          "metadata": {
            "tags": []
          },
          "execution_count": 50
        }
      ]
    },
    {
      "cell_type": "markdown",
      "metadata": {
        "id": "lRxsx4xd8t6j"
      },
      "source": [
        "### Publicando na Web\n",
        "Estrutura do Diretório\n",
        "- Model\n",
        " - modelo gerado acima deve ficar nessa pasta (model.pkl)\n",
        "- static\n",
        " - arquivos auxiliares da página\n",
        "- templates\n",
        " - página principal (template.html)\n",
        "- *srv.py*\n",
        " - Renderizando a página usando Flask\n",
        "\n",
        "#### Publicando...\n",
        "No terminal, execute:\n",
        "\n",
        "```\n",
        "C:\\Python>python srv.py\n",
        "\n",
        " * Serving Flask app \"srv\" (lazy loading)\n",
        " * Environment: production\n",
        "   WARNING: This is a development server. Do not use it in a production deployment.\n",
        "   Use a production WSGI server instead.\n",
        " * Debug mode: off\n",
        " * Running on http://localhost:5500/ (Press CTRL+C to quit)\n",
        "\n",
        "```\n",
        "\n",
        "##### Página Publicada\n",
        "![alt text](https://pessoalex.files.wordpress.com/2020/02/producao.png)\n",
        "\n",
        "\n",
        "\n"
      ]
    },
    {
      "cell_type": "markdown",
      "metadata": {
        "id": "32vsjHoVkp4M"
      },
      "source": [
        "## Versionamento\n",
        "- **v1.0** - Focado no detalhamento do processo de um Projeto de *Machine Learning* (em 16/02/2020);\n"
      ]
    },
    {
      "cell_type": "markdown",
      "metadata": {
        "id": "EUMzw20cOWB5"
      },
      "source": [
        "## Referências\n",
        "- Fases do Projeto ([Mauro Filho](http://cursodedatascience.com/))\n",
        "- Base ([Minerando Dados](https://minerandodados.com.br/))\n",
        "- Classificador: Random Forest Classifier ([Link](https://scikit-learn.org/stable/modules/generated/sklearn.ensemble.RandomForestClassifier.html))\n",
        "- Model Persistence ([joblib](https://scikit-learn.org/stable/modules/model_persistence.html))\n",
        "- Modelo simples de Desenvolvimento Web ([Flask](https://www.treinaweb.com.br/blog/o-que-e-flask/))\n",
        "- Alex Souza ([Blog](https://pessoalex.wordpress.com/))\n"
      ]
    }
  ]
}